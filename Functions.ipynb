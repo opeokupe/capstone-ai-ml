{
  "nbformat": 4,
  "nbformat_minor": 0,
  "metadata": {
    "colab": {
      "provenance": [],
      "authorship_tag": "ABX9TyPDlbLuYCDMWNGHET+teotn",
      "include_colab_link": true
    },
    "kernelspec": {
      "name": "python3",
      "display_name": "Python 3"
    },
    "language_info": {
      "name": "python"
    }
  },
  "cells": [
    {
      "cell_type": "markdown",
      "metadata": {
        "id": "view-in-github",
        "colab_type": "text"
      },
      "source": [
        "<a href=\"https://colab.research.google.com/github/opeokupe/capstone-ai-ml/blob/main/Functions.ipynb\" target=\"_parent\"><img src=\"https://colab.research.google.com/assets/colab-badge.svg\" alt=\"Open In Colab\"/></a>"
      ]
    },
    {
      "cell_type": "markdown",
      "source": [
        "#Introduction\n",
        "This document includes the functions I will be using for this project"
      ],
      "metadata": {
        "id": "RKXIlhZi5mWX"
      }
    },
    {
      "cell_type": "code",
      "execution_count": 2,
      "metadata": {
        "id": "FgzqGrW15b_M"
      },
      "outputs": [],
      "source": [
        "# 1. Initial Imports\n",
        "import pandas as pd\n",
        "import numpy as np\n",
        "import matplotlib.pyplot as plt\n",
        "import seaborn as sns\n",
        "from sklearn.preprocessing import StandardScaler\n",
        "from sklearn.model_selection import train_test_split\n",
        "from scipy.stats import chi2_contingency\n",
        "from google.colab import drive\n",
        "import warnings\n",
        "warnings.filterwarnings('ignore')\n",
        "import sys\n",
        "sys.path.append('/content/drive/MyDrive/Colab Notebooks/data_exploration.ipynb')\n"
      ]
    },
    {
      "cell_type": "code",
      "source": [
        "\n",
        "\n",
        "def explore_data(df, title=\"Dataset\"):\n",
        "    \"\"\"\n",
        "    Performs initial exploration of the dataset\n",
        "    \"\"\"\n",
        "    print(f\"\\n{title} Exploration:\")\n",
        "    print(\"-\" * 50)\n",
        "    print(f\"Shape: {df.shape}\")\n",
        "    print(\"\\nFirst few rows:\")\n",
        "    print(df.head())\n",
        "    print(\"\\nData Info:\")\n",
        "    print(df.info())\n",
        "    print(\"\\nMissing Values:\")\n",
        "    print(df.isnull().sum())\n",
        "    print(\"\\nBasic Statistics:\")\n",
        "    print(df.describe())\n",
        "\n"
      ],
      "metadata": {
        "id": "ZDmUhV_Z58U9"
      },
      "execution_count": 3,
      "outputs": []
    },
    {
      "cell_type": "markdown",
      "source": [],
      "metadata": {
        "id": "xsBQ_AXo5g-l"
      }
    }
  ]
}